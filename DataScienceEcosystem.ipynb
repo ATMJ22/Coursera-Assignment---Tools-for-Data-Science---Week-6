{
 "cells": [
  {
   "cell_type": "markdown",
   "id": "c4e24b58-af04-4b75-8ae8-adc764ab1718",
   "metadata": {
    "tags": []
   },
   "source": [
    "# Data Science Tools and Ecosystem"
   ]
  },
  {
   "cell_type": "markdown",
   "id": "d31e6899-87df-4775-a8ec-cf4004008bbd",
   "metadata": {},
   "source": [
    "In this notebook, Data Science Tools and Ecosystem are summarized."
   ]
  },
  {
   "cell_type": "markdown",
   "id": "513ce860-3e3e-4524-a7f6-85915e6579ef",
   "metadata": {},
   "source": [
    "Some of the popular languages that Data Scientists use are:\n"
   ]
  },
  {
   "cell_type": "markdown",
   "id": "84e164d8-0dae-463e-b3ce-076df0751aad",
   "metadata": {},
   "source": [
    "1. Python\n",
    "2. R\n",
    "3. SQL"
   ]
  },
  {
   "cell_type": "markdown",
   "id": "2713ecb3-2d5f-4a61-95ce-045dec0fe3db",
   "metadata": {},
   "source": [
    "Some of the commonly used libraries used by Data Scientists include:"
   ]
  },
  {
   "cell_type": "markdown",
   "id": "513ed687-9c9d-4b46-bdc3-865d432cc9dc",
   "metadata": {
    "tags": []
   },
   "source": [
    "1. TensorFlow\n",
    "2. PyTorch\n",
    "3. Pandas"
   ]
  },
  {
   "cell_type": "markdown",
   "id": "355a0f95-9f39-4f40-90db-2cd983d265e0",
   "metadata": {},
   "source": [
    "| Data Science Tools |\n",
    "|--------------------|\n",
    "|Rstudio|\n",
    "|Apache Spark|\n",
    "|Jupyter Notebook|"
   ]
  },
  {
   "cell_type": "markdown",
   "id": "cc0e0f0f-5f21-42cf-9e82-1f388beae2fa",
   "metadata": {},
   "source": [
    "### Below are a few examples of evaluating arithmetic expressions in Python"
   ]
  },
  {
   "cell_type": "code",
   "execution_count": 7,
   "id": "95567995-94f1-455f-9330-e79cda4888db",
   "metadata": {
    "tags": []
   },
   "outputs": [
    {
     "name": "stdout",
     "output_type": "stream",
     "text": [
      "17\n",
      "True\n"
     ]
    }
   ],
   "source": [
    "# This a simple arithmetic expression to mutiply then add integers\n",
    "eval = (3*4)+5\n",
    "print(eval)\n",
    "print(eval==17)"
   ]
  },
  {
   "cell_type": "code",
   "execution_count": 8,
   "id": "fb296c69-0eae-42d0-8089-ded3ba730c9f",
   "metadata": {
    "tags": []
   },
   "outputs": [
    {
     "name": "stdout",
     "output_type": "stream",
     "text": [
      "33.333333333333336\n"
     ]
    }
   ],
   "source": [
    "# This will convert 200 minutes to hours by diving by 60\n",
    "print(200 / 6)"
   ]
  },
  {
   "cell_type": "markdown",
   "id": "e842a125-b699-471f-ae73-d3153eb3fb96",
   "metadata": {},
   "source": [
    "**Objectives:**\n",
    "- List popular languages for Data Science.\n",
    "- Commonly used libraries used by Data Scientists.\n",
    "- Create a markdown cell with a table of Data Science tools.\n",
    "- A few examples of evaluating arithmetic expressions in Python"
   ]
  },
  {
   "cell_type": "markdown",
   "id": "06267ae9-f0c3-45e5-9f71-d40a67aeb4fd",
   "metadata": {},
   "source": [
    "## Author\n",
    "Atief Jokhoe"
   ]
  },
  {
   "cell_type": "code",
   "execution_count": null,
   "id": "7869a754-87e7-470e-851b-c77111204ee0",
   "metadata": {},
   "outputs": [],
   "source": []
  }
 ],
 "metadata": {
  "kernelspec": {
   "display_name": "Python",
   "language": "python",
   "name": "conda-env-python-py"
  },
  "language_info": {
   "codemirror_mode": {
    "name": "ipython",
    "version": 3
   },
   "file_extension": ".py",
   "mimetype": "text/x-python",
   "name": "python",
   "nbconvert_exporter": "python",
   "pygments_lexer": "ipython3",
   "version": "3.7.12"
  }
 },
 "nbformat": 4,
 "nbformat_minor": 5
}
